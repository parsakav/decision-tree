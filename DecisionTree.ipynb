{
 "cells": [
  {
   "cell_type": "code",
   "id": "initial_id",
   "metadata": {
    "collapsed": true,
    "ExecuteTime": {
     "end_time": "2025-04-01T21:27:26.045807Z",
     "start_time": "2025-04-01T21:27:25.058596Z"
    }
   },
   "source": [
    "import pandas as pd\n",
    "import math"
   ],
   "outputs": [],
   "execution_count": 1
  },
  {
   "metadata": {
    "ExecuteTime": {
     "end_time": "2025-04-01T21:27:26.069164Z",
     "start_time": "2025-04-01T21:27:26.061834Z"
    }
   },
   "cell_type": "code",
   "source": [
    "\n",
    "data={\n",
    "    \"Weather\":['Sunny' ,'Strong Wind', 'Partly Cloudy', 'Cloudy']\n",
    "        ,\n",
    "     \"y\":[\"Yes\", \"Yes\", \"Yes\", 'Yes']\n",
    "}\n",
    "dataset=pd.DataFrame(\n",
    "data\n",
    ")"
   ],
   "id": "e1fa6f7aaf4c809c",
   "outputs": [],
   "execution_count": 2
  },
  {
   "metadata": {
    "ExecuteTime": {
     "end_time": "2025-04-01T21:27:26.082583Z",
     "start_time": "2025-04-01T21:27:26.075633Z"
    }
   },
   "cell_type": "code",
   "source": "z=dataset['y']",
   "id": "714ab7e0f8e4a01",
   "outputs": [],
   "execution_count": 3
  },
  {
   "metadata": {
    "ExecuteTime": {
     "end_time": "2025-04-01T21:27:26.092455Z",
     "start_time": "2025-04-01T21:27:26.090439Z"
    }
   },
   "cell_type": "code",
   "source": "",
   "id": "557b0532cb97b11c",
   "outputs": [],
   "execution_count": null
  },
  {
   "metadata": {
    "ExecuteTime": {
     "end_time": "2025-04-01T21:27:26.116065Z",
     "start_time": "2025-04-01T21:27:26.104739Z"
    }
   },
   "cell_type": "code",
   "source": "z[z=='Yes'].count()",
   "id": "f00a17a98d4f0408",
   "outputs": [
    {
     "data": {
      "text/plain": [
       "np.int64(4)"
      ]
     },
     "execution_count": 4,
     "metadata": {},
     "output_type": "execute_result"
    }
   ],
   "execution_count": 4
  },
  {
   "metadata": {
    "ExecuteTime": {
     "end_time": "2025-04-01T21:27:26.531804Z",
     "start_time": "2025-04-01T21:27:26.524431Z"
    }
   },
   "cell_type": "code",
   "source": [
    "for i in z.unique():\n",
    "    print(i)"
   ],
   "id": "31dab5933fc0facc",
   "outputs": [
    {
     "name": "stdout",
     "output_type": "stream",
     "text": [
      "Yes\n"
     ]
    }
   ],
   "execution_count": 5
  },
  {
   "metadata": {
    "ExecuteTime": {
     "end_time": "2025-04-01T21:27:26.653212Z",
     "start_time": "2025-04-01T21:27:26.648181Z"
    }
   },
   "cell_type": "code",
   "source": [
    "def entropy(feature):\n",
    "    entropy = 0\n",
    "    for i in feature.unique():\n",
    "        p_i=feature[feature==i].count()/len(feature)\n",
    "        entropy += -1*p_i * math.log2(p_i)\n",
    "    return entropy"
   ],
   "id": "d60e98f17a3948b",
   "outputs": [],
   "execution_count": 6
  },
  {
   "metadata": {
    "ExecuteTime": {
     "end_time": "2025-04-01T21:27:26.677226Z",
     "start_time": "2025-04-01T21:27:26.670692Z"
    }
   },
   "cell_type": "code",
   "source": "entropy(dataset['y'])",
   "id": "bb3fa03e1a99f4a3",
   "outputs": [
    {
     "data": {
      "text/plain": [
       "np.float64(0.0)"
      ]
     },
     "execution_count": 7,
     "metadata": {},
     "output_type": "execute_result"
    }
   ],
   "execution_count": 7
  },
  {
   "metadata": {
    "ExecuteTime": {
     "end_time": "2025-04-01T21:27:26.737516Z",
     "start_time": "2025-04-01T21:27:26.733121Z"
    }
   },
   "cell_type": "code",
   "source": [
    "def information_gain(feature,dataset):\n",
    "    info_d = entropy(dataset['y'])\n",
    "    info_a=0\n",
    "    for i in feature.unique():\n",
    "        d = dataset[feature==i]\n",
    "        info_a+= (len(d)/len(dataset))*entropy(d['y'])\n",
    "    gain = info_d - info_a\n",
    "    return gain\n"
   ],
   "id": "9dcdb90b90f07f06",
   "outputs": [],
   "execution_count": 8
  },
  {
   "metadata": {
    "ExecuteTime": {
     "end_time": "2025-04-01T21:27:26.760121Z",
     "start_time": "2025-04-01T21:27:26.748794Z"
    }
   },
   "cell_type": "code",
   "source": [
    "import pandas as pd\n",
    "\n",
    "data = [\n",
    "    (\"<=30\", \"high\", \"no\", \"fair\", \"no\"),\n",
    "    (\"<=30\", \"high\", \"no\", \"excellent\", \"no\"),\n",
    "    (\"31...40\", \"high\", \"no\", \"fair\", \"yes\"),\n",
    "    (\">40\", \"medium\", \"no\", \"fair\", \"yes\"),\n",
    "    (\">40\", \"low\", \"yes\", \"fair\", \"yes\"),\n",
    "    (\">40\", \"low\", \"yes\", \"excellent\", \"no\"),\n",
    "    (\"31...40\", \"low\", \"yes\", \"excellent\", \"yes\"),\n",
    "    (\"<=30\", \"medium\", \"no\", \"fair\", \"no\"),\n",
    "    (\"<=30\", \"low\", \"yes\", \"fair\", \"yes\"),\n",
    "    (\">40\", \"medium\", \"yes\", \"fair\", \"yes\"),\n",
    "    (\"<=30\", \"medium\", \"yes\", \"excellent\", \"yes\"),\n",
    "    (\"31...40\", \"medium\", \"no\", \"excellent\", \"yes\"),\n",
    "    (\"31...40\", \"high\", \"yes\", \"fair\", \"yes\"),\n",
    "    (\">40\", \"medium\", \"no\", \"excellent\", \"no\"),\n",
    "]\n",
    "\n",
    "columns = [\"age\", \"income\", \"student\", \"credit_rating\", \"y\"]\n",
    "df = pd.DataFrame(data, columns=columns)\n",
    "\n",
    "print(df)\n"
   ],
   "id": "f799f4e575f1b033",
   "outputs": [
    {
     "name": "stdout",
     "output_type": "stream",
     "text": [
      "        age  income student credit_rating    y\n",
      "0      <=30    high      no          fair   no\n",
      "1      <=30    high      no     excellent   no\n",
      "2   31...40    high      no          fair  yes\n",
      "3       >40  medium      no          fair  yes\n",
      "4       >40     low     yes          fair  yes\n",
      "5       >40     low     yes     excellent   no\n",
      "6   31...40     low     yes     excellent  yes\n",
      "7      <=30  medium      no          fair   no\n",
      "8      <=30     low     yes          fair  yes\n",
      "9       >40  medium     yes          fair  yes\n",
      "10     <=30  medium     yes     excellent  yes\n",
      "11  31...40  medium      no     excellent  yes\n",
      "12  31...40    high     yes          fair  yes\n",
      "13      >40  medium      no     excellent   no\n"
     ]
    }
   ],
   "execution_count": 9
  },
  {
   "metadata": {
    "ExecuteTime": {
     "end_time": "2025-04-01T21:27:26.798672Z",
     "start_time": "2025-04-01T21:27:26.786183Z"
    }
   },
   "cell_type": "code",
   "source": "information_gain(df[\"age\"],df)",
   "id": "935ea31b71113e8e",
   "outputs": [
    {
     "data": {
      "text/plain": [
       "np.float64(0.24674981977443933)"
      ]
     },
     "execution_count": 10,
     "metadata": {},
     "output_type": "execute_result"
    }
   ],
   "execution_count": 10
  },
  {
   "metadata": {
    "ExecuteTime": {
     "end_time": "2025-04-01T21:27:26.846317Z",
     "start_time": "2025-04-01T21:27:26.836692Z"
    }
   },
   "cell_type": "code",
   "source": "information_gain(df[\"income\"],df)",
   "id": "8bc9add80d292b68",
   "outputs": [
    {
     "data": {
      "text/plain": [
       "np.float64(0.02922256565895487)"
      ]
     },
     "execution_count": 11,
     "metadata": {},
     "output_type": "execute_result"
    }
   ],
   "execution_count": 11
  },
  {
   "metadata": {
    "ExecuteTime": {
     "end_time": "2025-04-01T21:27:26.902546Z",
     "start_time": "2025-04-01T21:27:26.895346Z"
    }
   },
   "cell_type": "code",
   "source": "information_gain(df[\"credit_rating\"],df)\n",
   "id": "3b530fa3fcccaf4b",
   "outputs": [
    {
     "data": {
      "text/plain": [
       "np.float64(0.04812703040826949)"
      ]
     },
     "execution_count": 12,
     "metadata": {},
     "output_type": "execute_result"
    }
   ],
   "execution_count": 12
  },
  {
   "metadata": {
    "ExecuteTime": {
     "end_time": "2025-04-01T21:27:26.951179Z",
     "start_time": "2025-04-01T21:27:26.943171Z"
    }
   },
   "cell_type": "code",
   "source": "information_gain(df[\"student\"],df)\n",
   "id": "26170a4cc977dee3",
   "outputs": [
    {
     "data": {
      "text/plain": [
       "np.float64(0.15183550136234159)"
      ]
     },
     "execution_count": 13,
     "metadata": {},
     "output_type": "execute_result"
    }
   ],
   "execution_count": 13
  },
  {
   "metadata": {
    "ExecuteTime": {
     "end_time": "2025-04-01T21:27:27.033550Z",
     "start_time": "2025-04-01T21:27:27.029169Z"
    }
   },
   "cell_type": "code",
   "source": [
    "def best_split_feature(dataset):\n",
    "    X = dataset.drop(['y'],axis=1)\n",
    "    best_index = -1\n",
    "    best_gain=0\n",
    "    for feature in X.columns:\n",
    "        gain = information_gain(dataset[feature],dataset)\n",
    "        if(gain>best_gain):\n",
    "            best_gain = gain\n",
    "            best_index = feature\n",
    "    return best_index"
   ],
   "id": "981c715ecab23d2",
   "outputs": [],
   "execution_count": 14
  },
  {
   "metadata": {
    "ExecuteTime": {
     "end_time": "2025-04-01T21:27:27.074537Z",
     "start_time": "2025-04-01T21:27:27.058605Z"
    }
   },
   "cell_type": "code",
   "source": "best_split_feature(df)",
   "id": "9c6c2be1e1c89d1",
   "outputs": [
    {
     "data": {
      "text/plain": [
       "'age'"
      ]
     },
     "execution_count": 15,
     "metadata": {},
     "output_type": "execute_result"
    }
   ],
   "execution_count": 15
  },
  {
   "metadata": {
    "ExecuteTime": {
     "end_time": "2025-04-01T21:27:27.105294Z",
     "start_time": "2025-04-01T21:27:27.100922Z"
    }
   },
   "cell_type": "code",
   "source": [
    "class Node :\n",
    "    def __init__(self,value,name):\n",
    "        self.value = value\n",
    "        self.name=name\n",
    "        self.children= []\n",
    "    def _is_leaf(self):\n",
    "        return len(self.children)==0\n"
   ],
   "id": "d74c1c6a70c009e2",
   "outputs": [],
   "execution_count": 16
  },
  {
   "metadata": {
    "ExecuteTime": {
     "end_time": "2025-04-01T21:27:27.144465Z",
     "start_time": "2025-04-01T21:27:27.139971Z"
    }
   },
   "cell_type": "code",
   "source": "df.shape",
   "id": "d87bb09a4a5ddf5c",
   "outputs": [
    {
     "data": {
      "text/plain": [
       "(14, 5)"
      ]
     },
     "execution_count": 17,
     "metadata": {},
     "output_type": "execute_result"
    }
   ],
   "execution_count": 17
  },
  {
   "metadata": {
    "ExecuteTime": {
     "end_time": "2025-04-01T21:27:27.184067Z",
     "start_time": "2025-04-01T21:27:27.179960Z"
    }
   },
   "cell_type": "code",
   "source": [
    "##train\n",
    "def build_tree(dataset,parent_node=None):\n",
    "    if df.shape[1]<=1:\n",
    "        leaf_value = dataset['y'].mode()[0]\n",
    "        return Node(leaf_value,f\"Leaf:{leaf_value}\")\n",
    "    best_feature=best_split_feature(dataset)\n",
    "    if best_feature==-1:\n",
    "        leaf_value = dataset['y'].mode()[0]\n",
    "        return Node(leaf_value,f\"Leaf:{leaf_value}\")\n",
    "    node = Node(best_feature,f\"Feature : {best_feature}\")\n",
    "    for values in dataset[best_feature].unique():\n",
    "        sub_dataset=dataset[dataset[best_feature]==values]\n",
    "        child_node=build_tree(sub_dataset,node)\n",
    "        node.children.append((values,child_node))\n",
    "    return node\n"
   ],
   "id": "3d2a1c7fba1e86c4",
   "outputs": [],
   "execution_count": 18
  },
  {
   "metadata": {
    "ExecuteTime": {
     "end_time": "2025-04-01T21:27:27.226124Z",
     "start_time": "2025-04-01T21:27:27.221591Z"
    }
   },
   "cell_type": "code",
   "source": [
    "def print_tree(node,level=0):\n",
    "    indent=' '*level\n",
    "    print(f\"{indent}{node.name}\")\n",
    "    for value,child in node.children:\n",
    "        print(f\"{indent}|--{value}\")\n",
    "        print_tree(child,level+1)"
   ],
   "id": "1e354e23df8ba395",
   "outputs": [],
   "execution_count": 19
  },
  {
   "metadata": {
    "ExecuteTime": {
     "end_time": "2025-04-01T21:27:27.278943Z",
     "start_time": "2025-04-01T21:27:27.235134Z"
    }
   },
   "cell_type": "code",
   "source": "root=build_tree(df)",
   "id": "149c80ce4158f8c3",
   "outputs": [],
   "execution_count": 20
  },
  {
   "metadata": {
    "ExecuteTime": {
     "end_time": "2025-04-01T21:27:27.295468Z",
     "start_time": "2025-04-01T21:27:27.290817Z"
    }
   },
   "cell_type": "code",
   "source": "print_tree(root)",
   "id": "3eef12c8dae62e9e",
   "outputs": [
    {
     "name": "stdout",
     "output_type": "stream",
     "text": [
      "Feature : age\n",
      "|--<=30\n",
      " Feature : student\n",
      " |--no\n",
      "  Leaf:no\n",
      " |--yes\n",
      "  Leaf:yes\n",
      "|--31...40\n",
      " Leaf:yes\n",
      "|-->40\n",
      " Feature : credit_rating\n",
      " |--fair\n",
      "  Leaf:yes\n",
      " |--excellent\n",
      "  Leaf:no\n"
     ]
    }
   ],
   "execution_count": 21
  },
  {
   "metadata": {
    "ExecuteTime": {
     "end_time": "2025-04-01T21:27:27.350324Z",
     "start_time": "2025-04-01T21:27:27.345526Z"
    }
   },
   "cell_type": "code",
   "source": [
    "def predict(root:Node,X:pd.DataFrame,index):\n",
    "    if root._is_leaf() :\n",
    "        return root.value\n",
    "    val=str(X.loc[index,root.value])\n",
    "    for value,child in root.children:\n",
    "        if value.__contains__(val):\n",
    "            return predict(child,X,index)\n",
    "            break"
   ],
   "id": "791118560846d702",
   "outputs": [],
   "execution_count": 22
  },
  {
   "metadata": {
    "ExecuteTime": {
     "end_time": "2025-04-01T21:27:27.391515Z",
     "start_time": "2025-04-01T21:27:27.385063Z"
    }
   },
   "cell_type": "code",
   "source": [
    "X=df.iloc[3:4,:]\n",
    "print(predict(root,X,3))\n"
   ],
   "id": "1ef4d33854f28fca",
   "outputs": [
    {
     "name": "stdout",
     "output_type": "stream",
     "text": [
      "yes\n"
     ]
    }
   ],
   "execution_count": 23
  }
 ],
 "metadata": {
  "kernelspec": {
   "display_name": "Python 3",
   "language": "python",
   "name": "python3"
  },
  "language_info": {
   "codemirror_mode": {
    "name": "ipython",
    "version": 2
   },
   "file_extension": ".py",
   "mimetype": "text/x-python",
   "name": "python",
   "nbconvert_exporter": "python",
   "pygments_lexer": "ipython2",
   "version": "2.7.6"
  }
 },
 "nbformat": 4,
 "nbformat_minor": 5
}
